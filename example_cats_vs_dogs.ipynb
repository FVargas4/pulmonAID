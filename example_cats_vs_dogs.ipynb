{
  "cells": [
    {
      "cell_type": "markdown",
      "metadata": {
        "id": "tTv6QZgC3fiu"
      },
      "source": [
        "### Import libraries for Deep Learning"
      ]
    },
    {
      "cell_type": "code",
      "execution_count": 1,
      "metadata": {
        "id": "4ocR0Zks3fi0"
      },
      "outputs": [],
      "source": [
        "import numpy as np\n",
        "import torch\n",
        "import torch.nn as nn\n",
        "import torch.nn.functional as F\n",
        "import torch.optim as optim\n",
        "from torch.utils.data import DataLoader\n",
        "from torch.utils.data import random_split\n",
        "import torchvision.transforms as transforms\n",
        "import torchvision.datasets as datasets\n",
        "import matplotlib.pyplot as plt"
      ]
    },
    {
      "cell_type": "code",
      "execution_count": 3,
      "metadata": {
        "colab": {
          "base_uri": "https://localhost:8080/"
        },
        "id": "PDJ9AOs73m3A",
        "outputId": "9bd49a15-cb5b-4647-a7b3-930e142e4c28"
      },
      "outputs": [],
      "source": [
        "# from google.colab import drive\n",
        "# drive.mount('/content/drive')\n"
      ]
    },
    {
      "cell_type": "code",
      "execution_count": null,
      "metadata": {
        "colab": {
          "base_uri": "https://localhost:8080/"
        },
        "id": "UDJuSlti3fi3",
        "outputId": "51c8786b-e831-4256-f0c8-a2c1d0d7d75b"
      },
      "outputs": [],
      "source": [
        "device = torch.device('cuda') if torch.cuda.is_available() else torch.device('cpu')\n",
        "print(f'Using device: ', {device})"
      ]
    },
    {
      "cell_type": "code",
      "execution_count": 5,
      "metadata": {
        "id": "j46EnDOT3tZd"
      },
      "outputs": [],
      "source": [
        "path = '/Users/fervargas/Developer/py/cnn/chest_xray/'"
      ]
    },
    {
      "cell_type": "code",
      "execution_count": 6,
      "metadata": {
        "id": "VTRWlvXf3fi5"
      },
      "outputs": [],
      "source": [
        "transform = transforms.Compose([\n",
        "        transforms.Resize([224,224]),\n",
        "        transforms.ToTensor(),\n",
        "        transforms.Normalize((0.485, 0.456, 0.406), (0.229, 0.224, 0.225))\n",
        "    ])"
      ]
    },
    {
      "cell_type": "code",
      "execution_count": 7,
      "metadata": {
        "colab": {
          "base_uri": "https://localhost:8080/",
          "height": 364
        },
        "id": "ewrKQIrk3fi5",
        "outputId": "520876e9-d577-41ae-9115-ede7685c1df2"
      },
      "outputs": [],
      "source": [
        "full_dataset = datasets.ImageFolder(path, transform=transform)"
      ]
    },
    {
      "cell_type": "code",
      "execution_count": null,
      "metadata": {
        "colab": {
          "base_uri": "https://localhost:8080/"
        },
        "id": "CJh39ug13fi6",
        "outputId": "1bd335fa-fb1b-4e13-f200-64ee8ef66fcb"
      },
      "outputs": [],
      "source": [
        "len(full_dataset)"
      ]
    },
    {
      "cell_type": "code",
      "execution_count": null,
      "metadata": {
        "id": "L6cf4OQy3fi6"
      },
      "outputs": [],
      "source": [
        "TRAIN_SIZE =  int(len(full_dataset) * 0.8) +1\n",
        "VAL_SIZE = int(len(full_dataset) * 0.1 )\n",
        "TEST_SIZE = int(len(full_dataset) * 0.1)\n",
        "BATCH_SIZE = 64"
      ]
    },
    {
      "cell_type": "code",
      "execution_count": null,
      "metadata": {
        "colab": {
          "base_uri": "https://localhost:8080/"
        },
        "id": "sl3px3j73fi7",
        "outputId": "4000e977-77d4-45e4-86da-06f8bc691df1"
      },
      "outputs": [],
      "source": [
        "print(TRAIN_SIZE, VAL_SIZE, TEST_SIZE)\n",
        "print(TRAIN_SIZE + VAL_SIZE + TEST_SIZE)"
      ]
    },
    {
      "cell_type": "code",
      "execution_count": null,
      "metadata": {
        "id": "uu7fND4B3fi9"
      },
      "outputs": [],
      "source": [
        "training_set, val_set, test_set = random_split(full_dataset, [TRAIN_SIZE, VAL_SIZE, TEST_SIZE])"
      ]
    },
    {
      "cell_type": "code",
      "execution_count": null,
      "metadata": {
        "id": "rjyCyEcB3fi9"
      },
      "outputs": [],
      "source": [
        "training_loader = DataLoader(dataset=training_set, batch_size=BATCH_SIZE, shuffle=True)\n",
        "val_loader = DataLoader(dataset=val_set, batch_size=BATCH_SIZE, shuffle=True)\n",
        "test_loader = DataLoader(dataset=test_set, batch_size=BATCH_SIZE, shuffle=True)"
      ]
    },
    {
      "cell_type": "code",
      "execution_count": null,
      "metadata": {
        "colab": {
          "base_uri": "https://localhost:8080/",
          "height": 286
        },
        "id": "VpcyT7UF3fi-",
        "outputId": "056331bf-0760-44e9-d7dc-c7e4fa4e214e"
      },
      "outputs": [],
      "source": [
        "# categories = ['Basset Hound', 'Beagle', 'Pug']\n",
        "categories = ['cat', 'dog']\n",
        "def plot_figure(image):\n",
        "    plt.imshow(image.permute(1,2,0))\n",
        "    plt.show()\n",
        "\n",
        "rnd_sample_idx = np.random.randint(TEST_SIZE)\n",
        "print(f'La imagen muestreada representa un: {categories[test_loader.dataset[rnd_sample_idx][1]]}')\n",
        "image = test_loader.dataset[rnd_sample_idx][0]\n",
        "image = (image - image.min()) / (image.max() -image.min() )\n",
        "plot_figure(image)"
      ]
    },
    {
      "cell_type": "code",
      "execution_count": null,
      "metadata": {
        "id": "K7kr9EsX3fi-"
      },
      "outputs": [],
      "source": [
        "def accuracy(model, loader):\n",
        "    num_correct = 0\n",
        "    num_total = 0\n",
        "    model.eval()\n",
        "    model = model.to(device=device)\n",
        "    with torch.no_grad():\n",
        "        for (xi, yi) in loader:\n",
        "            xi = xi.to(device=device, dtype = torch.float32)\n",
        "            yi = yi.to(device=device, dtype = torch.long)\n",
        "            scores = model(xi) # mb_size, 10\n",
        "            _, pred = scores.max(dim=1) #pred shape (mb_size )\n",
        "            num_correct += (pred == yi.squeeze()).sum() # pred shape (mb_size), yi shape (mb_size, 1)\n",
        "            num_total += pred.size(0)\n",
        "\n",
        "        return float(num_correct)/num_total     \n",
        "            "
      ]
    },
    {
      "cell_type": "code",
      "execution_count": null,
      "metadata": {
        "id": "KZr93iC43fi_"
      },
      "outputs": [],
      "source": [
        "def train(model, optimiser, epochs=100):\n",
        "#     def train(model, optimiser, scheduler = None, epochs=100):\n",
        "    model = model.to(device=device)\n",
        "    for epoch in range(epochs):\n",
        "        for (xi, yi) in training_loader:\n",
        "            model.train()\n",
        "            xi = xi.to(device=device, dtype=torch.float32)\n",
        "            yi = yi.to(device=device, dtype=torch.long)\n",
        "            scores = model(xi)\n",
        "\n",
        "            cost = F.cross_entropy(input= scores, target=yi.squeeze())\n",
        "#             cost = F.bin\n",
        "        \n",
        "            optimiser.zero_grad()           \n",
        "            cost.backward()\n",
        "            optimiser.step()           \n",
        "            \n",
        "        acc = accuracy(model, val_loader)\n",
        "        if epoch%1 == 0:     \n",
        "            print(f'Epoch: {epoch}, costo: {cost.item()}, accuracy: {acc},')\n",
        "#         scheduler.step()\n",
        "    "
      ]
    },
    {
      "cell_type": "code",
      "execution_count": null,
      "metadata": {
        "id": "nDOPayKQ3fi_"
      },
      "outputs": [],
      "source": [
        "model = nn.Sequential(\n",
        "        nn.Conv2d(in_channels=3, out_channels=32, kernel_size=3,\n",
        "                 padding=1, stride=1, bias=True),\n",
        "        nn.BatchNorm2d(num_features=32),\n",
        "        nn.ReLU(),\n",
        "        nn.MaxPool2d(kernel_size= (2, 2), stride=(2,2)),\n",
        "    \n",
        "        nn.Conv2d(in_channels=32, out_channels=64, kernel_size=3,\n",
        "                 padding=1, stride=1, bias=True),\n",
        "        nn.BatchNorm2d(num_features=64),\n",
        "        nn.ReLU(),\n",
        "        nn.MaxPool2d(kernel_size= (2, 2), stride=(2,2)),\n",
        "    \n",
        "        nn.Conv2d(in_channels=64, out_channels=128, kernel_size=3,\n",
        "                 padding=1, stride=1, bias=True),\n",
        "        nn.BatchNorm2d(num_features=128),\n",
        "        nn.ReLU(),\n",
        "        nn.MaxPool2d(kernel_size= (2, 2), stride=(2,2)),\n",
        "    \n",
        "        nn.Conv2d(in_channels=128, out_channels=128, kernel_size=3,\n",
        "                 padding=1, stride=1, bias=True),\n",
        "        nn.BatchNorm2d(num_features=128),\n",
        "        nn.ReLU(),\n",
        "        nn.MaxPool2d(kernel_size= (2, 2), stride=(2,2)),\n",
        "    \n",
        "        nn.Flatten(),\n",
        "        nn.Linear(in_features = 14*14*128, out_features = 2, bias=True)\n",
        "        )"
      ]
    },
    {
      "cell_type": "code",
      "execution_count": null,
      "metadata": {
        "colab": {
          "base_uri": "https://localhost:8080/"
        },
        "id": "aDEW6KLx3fi_",
        "outputId": "4b0985ae-dcae-4221-8605-5fc9aba4f1f7"
      },
      "outputs": [],
      "source": [
        "epochs = 30\n",
        "num_classes = 2\n",
        "# lr = 0.000031\n",
        "lr = 0.001\n",
        "optimizer = optim.Adam(params = model.parameters(), lr= lr)\n",
        "train(model, optimizer, epochs)\n",
        "acc = accuracy(model, val_loader)\n"
      ]
    },
    {
      "cell_type": "code",
      "execution_count": null,
      "metadata": {
        "id": "pp0_s7Il3fjA"
      },
      "outputs": [],
      "source": [
        "print(acc)"
      ]
    },
    {
      "cell_type": "code",
      "execution_count": null,
      "metadata": {
        "id": "sXcb1L623fjA"
      },
      "outputs": [],
      "source": [
        "accuracy(model, test_loader)"
      ]
    },
    {
      "cell_type": "code",
      "execution_count": null,
      "metadata": {
        "id": "Nw4Tgh_13fjB"
      },
      "outputs": [],
      "source": [
        "sum_y = 0\n",
        "for i, (x, y) in enumerate(test_loader):\n",
        "    print(i, x.shape, y)\n",
        "    sum_y += sum(y)\n",
        "print(sum_y)"
      ]
    },
    {
      "cell_type": "code",
      "execution_count": null,
      "metadata": {
        "id": "BsVMD5PD3fjB"
      },
      "outputs": [],
      "source": []
    },
    {
      "cell_type": "code",
      "execution_count": null,
      "metadata": {
        "id": "xtWQzYZC3fjB"
      },
      "outputs": [],
      "source": []
    },
    {
      "cell_type": "code",
      "execution_count": null,
      "metadata": {
        "id": "U2aN_dyt3fjB"
      },
      "outputs": [],
      "source": []
    }
  ],
  "metadata": {
    "accelerator": "GPU",
    "colab": {
      "provenance": []
    },
    "kernelspec": {
      "display_name": "Python 3",
      "language": "python",
      "name": "python3"
    },
    "language_info": {
      "codemirror_mode": {
        "name": "ipython",
        "version": 3
      },
      "file_extension": ".py",
      "mimetype": "text/x-python",
      "name": "python",
      "nbconvert_exporter": "python",
      "pygments_lexer": "ipython3",
      "version": "3.10.9"
    },
    "varInspector": {
      "cols": {
        "lenName": 16,
        "lenType": 16,
        "lenVar": 40
      },
      "kernels_config": {
        "python": {
          "delete_cmd_postfix": "",
          "delete_cmd_prefix": "del ",
          "library": "var_list.py",
          "varRefreshCmd": "print(var_dic_list())"
        },
        "r": {
          "delete_cmd_postfix": ") ",
          "delete_cmd_prefix": "rm(",
          "library": "var_list.r",
          "varRefreshCmd": "cat(var_dic_list()) "
        }
      },
      "types_to_exclude": [
        "module",
        "function",
        "builtin_function_or_method",
        "instance",
        "_Feature"
      ],
      "window_display": false
    }
  },
  "nbformat": 4,
  "nbformat_minor": 0
}
